{
 "cells": [
  {
   "cell_type": "markdown",
   "metadata": {},
   "source": [
    "# Counting DNA Nucleotides\n",
    "\n",
    "## Problem\n",
    "\n",
    "A string is simply an ordered collection of symbols selected from some alphabet and formed into a word; the length of a string is the number of symbols that it contains.\n",
    "\n",
    "An example of a length 21 DNA string (whose alphabet contains the symbols 'A', 'C', 'G', and 'T') is \"ATGCTTCAGAAAGGTCTTACG.\"\n",
    "\n",
    "> **Given:** A DNA string ss of length at most 1000 nt.\n",
    "\n",
    "> **Return:** Four integers (separated by spaces) counting the respective number of times that the symbols 'A', 'C', 'G', and 'T' occur in ss."
   ]
  },
  {
   "cell_type": "markdown",
   "metadata": {},
   "source": [
    "## Sample Dataset"
   ]
  },
  {
   "cell_type": "raw",
   "metadata": {},
   "source": [
    "AGCTTTTCATTCTGACTGCAACGGGCAATATGTCTCTGTGTGGATTAAAAAAAGAGTGTCTGATAGCAGC"
   ]
  },
  {
   "cell_type": "markdown",
   "metadata": {},
   "source": [
    "## Sample Output"
   ]
  },
  {
   "cell_type": "raw",
   "metadata": {},
   "source": [
    "20 12 17 21"
   ]
  },
  {
   "cell_type": "markdown",
   "metadata": {},
   "source": [
    "## Solution"
   ]
  },
  {
   "cell_type": "code",
   "execution_count": 14,
   "metadata": {
    "collapsed": true
   },
   "outputs": [],
   "source": [
    "ss_example = 'AGCTTTTCATTCTGACTGCAACGGGCAATATGTCTCTGTGTGGATTAAAAAAAGAGTGTCTGATAGCAGC'"
   ]
  },
  {
   "cell_type": "code",
   "execution_count": 28,
   "metadata": {
    "collapsed": true
   },
   "outputs": [],
   "source": [
    "from collections import OrderedDict\n",
    "\n",
    "def count_bases(ss):\n",
    "    base_counts = OrderedDict([('A', 0), ('C', 0), ('G', 0), ('T', 0)])\n",
    "    for n in ss:\n",
    "        base_counts[n] += 1\n",
    "    print(' '.join(str(count) for count in base_counts.values()))"
   ]
  },
  {
   "cell_type": "code",
   "execution_count": 29,
   "metadata": {
    "collapsed": false
   },
   "outputs": [
    {
     "name": "stdout",
     "output_type": "stream",
     "text": [
      "20 12 17 21\n"
     ]
    }
   ],
   "source": [
    "count_bases(ss_example)"
   ]
  },
  {
   "cell_type": "code",
   "execution_count": 33,
   "metadata": {
    "collapsed": true
   },
   "outputs": [],
   "source": [
    "def read_ss(path):\n",
    "    with open(path) as f:\n",
    "        ss = f.read()\n",
    "    return ss.rstrip()"
   ]
  },
  {
   "cell_type": "code",
   "execution_count": 35,
   "metadata": {
    "collapsed": false
   },
   "outputs": [
    {
     "name": "stdout",
     "output_type": "stream",
     "text": [
      "GAAAGAAACCTCATCGCGTAACACTCTTGTCAGACTAGTGCTAGGATACATATACACGAGGCTAGTGTTTTGGGTGGGTACCCCTGTTCTCAGAGCTGCCCACTACTATTTTCAGTCACGTGGCATTCCCTTTGCGGTGGGGCAAGCTTTTTATAACGTATACGCGCAACTGCGCGTCACTACTCGGCTGACCAATGATTCGCTCGTCCCAGAAGTGCGTGGGTCCGCCCTAGGCCGCTAGTTGCGTAACCGTTCCTTTTGATGGTGTCAAGTCCAAAGCATAACAGACACTTCCTGCTCCAATGGGGCTTAATGAGAGGTACTGGTAGGGGCTCGCGAATTAGATCCCATTTCCCAAGGACTCCTAAACCTGAAGCACCGCTGACAAGCCCGCGGCCGAGGCCGCAGGGCTCGAAGTAACTTCACGCCAGCTTCCCATGCCGCGTATGCGATCGTGCCACAGACGATCAGGGCACGGTAAGGATCGCCGTAACACAGGTCATGGTAGAAAATTTGAGATATTTGGTCTTCGTCGCGATCACGCCAACTGGCTTCGAGTAAGAACATATGATGATAGTTGGCGGACGTCCTATTGTGGCAAAAAGGTCATTCATGGACTAGAAAATAAACTTTGCAGCTCTGATGCGATGTGCCACACTAGAAGATCTACCACTGCATCTGCGACCATTAGTTGCTGAATAAAACGAGCCCCGCAAACTATCCGATCTTGGGCAGACTCCCTCACGCGATGCGCTACGCCAGACGGAAACGCACGGAAATTCCTTCAGACCGTTTACTCTAGATCGACCCATACGCACTGTAAAGCTAAGTAGCGTGGTTGTCAAGTGCGGTCGTCTA\n"
     ]
    }
   ],
   "source": [
    "ss = read_ss('../data/rosalind_dna.txt')\n",
    "print(ss)"
   ]
  },
  {
   "cell_type": "code",
   "execution_count": 36,
   "metadata": {
    "collapsed": false
   },
   "outputs": [
    {
     "name": "stdout",
     "output_type": "stream",
     "text": [
      "214 228 214 202\n"
     ]
    }
   ],
   "source": [
    "count_bases(ss.rstrip())"
   ]
  }
 ],
 "metadata": {
  "anaconda-cloud": {},
  "kernelspec": {
   "display_name": "Python [conda env:rosalind]",
   "language": "python",
   "name": "conda-env-rosalind-py"
  },
  "language_info": {
   "codemirror_mode": {
    "name": "ipython",
    "version": 3
   },
   "file_extension": ".py",
   "mimetype": "text/x-python",
   "name": "python",
   "nbconvert_exporter": "python",
   "pygments_lexer": "ipython3",
   "version": "3.5.2"
  }
 },
 "nbformat": 4,
 "nbformat_minor": 1
}
