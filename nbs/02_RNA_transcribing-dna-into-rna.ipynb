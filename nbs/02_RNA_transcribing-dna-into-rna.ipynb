{
 "cells": [
  {
   "cell_type": "markdown",
   "metadata": {},
   "source": [
    "# Transcribing DNA into RNA\n",
    "\n",
    "## Problem\n",
    "\n",
    "An RNA string is a string formed from the alphabet containing 'A', 'C', 'G', and 'U'.\n",
    "\n",
    "Given a DNA string tt corresponding to a coding strand, its transcribed RNA string uu is formed by replacing all occurrences of 'T' in tt with 'U' in uu.\n",
    "\n",
    "> **Given:** A DNA string tt having length at most 1000 nt.\n",
    "\n",
    "> **Return:** The transcribed RNA string of tt."
   ]
  },
  {
   "cell_type": "markdown",
   "metadata": {},
   "source": [
    "## Sample Dataset"
   ]
  },
  {
   "cell_type": "raw",
   "metadata": {},
   "source": [
    "GATGGAACTTGACTACGTAAATT"
   ]
  },
  {
   "cell_type": "markdown",
   "metadata": {},
   "source": [
    "## Sample Output"
   ]
  },
  {
   "cell_type": "raw",
   "metadata": {},
   "source": [
    "GAUGGAACUUGACUACGUAAAUU"
   ]
  },
  {
   "cell_type": "markdown",
   "metadata": {},
   "source": [
    "## Solution"
   ]
  },
  {
   "cell_type": "code",
   "execution_count": 1,
   "metadata": {
    "collapsed": true
   },
   "outputs": [],
   "source": [
    "tt_example = 'GATGGAACTTGACTACGTAAATT'"
   ]
  },
  {
   "cell_type": "code",
   "execution_count": 7,
   "metadata": {
    "collapsed": false
   },
   "outputs": [],
   "source": [
    "def transcribe(tt):\n",
    "    print(tt.replace('T', 'U'))"
   ]
  },
  {
   "cell_type": "code",
   "execution_count": 8,
   "metadata": {
    "collapsed": false
   },
   "outputs": [
    {
     "name": "stdout",
     "output_type": "stream",
     "text": [
      "GAUGGAACUUGACUACGUAAAUU\n"
     ]
    }
   ],
   "source": [
    "transcribe(tt_example)"
   ]
  },
  {
   "cell_type": "code",
   "execution_count": 9,
   "metadata": {
    "collapsed": true
   },
   "outputs": [],
   "source": [
    "def read_tt(path):\n",
    "    with open(path) as f:\n",
    "        tt = f.read()\n",
    "    return tt.rstrip()"
   ]
  },
  {
   "cell_type": "code",
   "execution_count": 10,
   "metadata": {
    "collapsed": false
   },
   "outputs": [
    {
     "name": "stdout",
     "output_type": "stream",
     "text": [
      "CTGTGATGTATGCCCACGTTCTGATATCTCGTGCCAACTCTCCTTAAACACTTCGCGGGCGACCAATTGTATGCGCGTCCAGAACGTTTGAGAGCTGCCTGAGATGGAACCGTGCGGCAACAATTATAGTATGATGCCGGCCTGTATGCGGCCGGTTGCCCTTAGGGAGTAGATCCAACATAGCATGGTTAATCCGGGTCCGCCTAGTAAAGTAAGTCGGAGGCCTGCAGGCGCAGTATGAATAGGCTATAATCCGATCTGATGTTGTCCGTTTGGGATCCTGACCTCTTCAGACGTGACATGACGCGCTTCATCTGGTGGGAGTGATTGACCGTTTTTGTCAAACAACGTTCCGACCTATTTAGGCGAACCCTCCTTCTACTAGACTATCAGCTAAGGGTTAACCTGCCAAAGTCTGCTGAGAAGAACGGGCTCAAAGGAATGACGGTCTTAATGCAGGGTACGCTAATCGTCCGCCATATAACAGCTAAAAGGGCGTGCGAGAACCTAGCAGAACGTCTCACTAACTAACGGGTACCCTGTCAGTATGGAACCTAGCTGGTAAGGTTGGGAGGCAGTTATGGCTACCTTGTTACATTCACACTAAGTATCCGCGTGACCGTTGAGTTGGCAAGGCCTCGTCTTTCCAAAAGTGACGATACATCTTGAGCCGTTGAAAGTGGTCAAGTGGGCTTGGGTGGTATCCGTTACCCTTCAAGAGGGGGGGGTCCCGAACTCGGAGAAGATAACTACAAGTCAAGCATATGACTTAGCACACAATTTATAGCTCCCCTGACGAGATTGAGGAAGTGTTTCTTTGCTAAGATTAGGACGAGTCATACCGCTATGAGACAATCTAACGCCTCAGTCGTCGGATTACTCGTATAGATCTCCCGAAAATCCCCCTAAGGCCCCACAAACAGCTAGAGATCGTCTCATCCG\n"
     ]
    }
   ],
   "source": [
    "tt = read_tt('../data/rosalind_rna.txt')\n",
    "print(tt)"
   ]
  },
  {
   "cell_type": "code",
   "execution_count": 11,
   "metadata": {
    "collapsed": false
   },
   "outputs": [
    {
     "name": "stdout",
     "output_type": "stream",
     "text": [
      "CUGUGAUGUAUGCCCACGUUCUGAUAUCUCGUGCCAACUCUCCUUAAACACUUCGCGGGCGACCAAUUGUAUGCGCGUCCAGAACGUUUGAGAGCUGCCUGAGAUGGAACCGUGCGGCAACAAUUAUAGUAUGAUGCCGGCCUGUAUGCGGCCGGUUGCCCUUAGGGAGUAGAUCCAACAUAGCAUGGUUAAUCCGGGUCCGCCUAGUAAAGUAAGUCGGAGGCCUGCAGGCGCAGUAUGAAUAGGCUAUAAUCCGAUCUGAUGUUGUCCGUUUGGGAUCCUGACCUCUUCAGACGUGACAUGACGCGCUUCAUCUGGUGGGAGUGAUUGACCGUUUUUGUCAAACAACGUUCCGACCUAUUUAGGCGAACCCUCCUUCUACUAGACUAUCAGCUAAGGGUUAACCUGCCAAAGUCUGCUGAGAAGAACGGGCUCAAAGGAAUGACGGUCUUAAUGCAGGGUACGCUAAUCGUCCGCCAUAUAACAGCUAAAAGGGCGUGCGAGAACCUAGCAGAACGUCUCACUAACUAACGGGUACCCUGUCAGUAUGGAACCUAGCUGGUAAGGUUGGGAGGCAGUUAUGGCUACCUUGUUACAUUCACACUAAGUAUCCGCGUGACCGUUGAGUUGGCAAGGCCUCGUCUUUCCAAAAGUGACGAUACAUCUUGAGCCGUUGAAAGUGGUCAAGUGGGCUUGGGUGGUAUCCGUUACCCUUCAAGAGGGGGGGGUCCCGAACUCGGAGAAGAUAACUACAAGUCAAGCAUAUGACUUAGCACACAAUUUAUAGCUCCCCUGACGAGAUUGAGGAAGUGUUUCUUUGCUAAGAUUAGGACGAGUCAUACCGCUAUGAGACAAUCUAACGCCUCAGUCGUCGGAUUACUCGUAUAGAUCUCCCGAAAAUCCCCCUAAGGCCCCACAAACAGCUAGAGAUCGUCUCAUCCG\n"
     ]
    }
   ],
   "source": [
    "transcribe(tt)"
   ]
  },
  {
   "cell_type": "code",
   "execution_count": null,
   "metadata": {
    "collapsed": true
   },
   "outputs": [],
   "source": []
  }
 ],
 "metadata": {
  "anaconda-cloud": {},
  "kernelspec": {
   "display_name": "Python [conda env:rosalind]",
   "language": "python",
   "name": "conda-env-rosalind-py"
  },
  "language_info": {
   "codemirror_mode": {
    "name": "ipython",
    "version": 3
   },
   "file_extension": ".py",
   "mimetype": "text/x-python",
   "name": "python",
   "nbconvert_exporter": "python",
   "pygments_lexer": "ipython3",
   "version": "3.5.2"
  }
 },
 "nbformat": 4,
 "nbformat_minor": 1
}
